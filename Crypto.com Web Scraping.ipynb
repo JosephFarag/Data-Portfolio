{
 "cells": [
  {
   "cell_type": "markdown",
   "id": "a1bbba3f",
   "metadata": {},
   "source": [
    "# Web Scraping Crypto.com to Obtain Bitcoin Price\n",
    "## Joseph Farag\n",
    "\n",
    "In this project, we will use python's package BeautifulSoup to scrape the bitcoin price from crypto.com."
   ]
  },
  {
   "cell_type": "code",
   "execution_count": 1,
   "id": "687ad6e7",
   "metadata": {},
   "outputs": [],
   "source": [
    "# Import Libraries\n",
    "\n",
    "from bs4 import BeautifulSoup\n",
    "import requests\n",
    "import smtplib\n",
    "import time\n",
    "import datetime"
   ]
  },
  {
   "cell_type": "code",
   "execution_count": 25,
   "id": "d6a68875",
   "metadata": {},
   "outputs": [
    {
     "name": "stdout",
     "output_type": "stream",
     "text": [
      "\n",
      "          Bitcoin\n",
      "         \n",
      "\n",
      "\n",
      "\n",
      "             $40,847.93 USD\n",
      "            \n",
      "\n"
     ]
    }
   ],
   "source": [
    "# Connect to website\n",
    "\n",
    "URL = 'https://crypto.com/price/bitcoin'\n",
    "headers = {\"User-Agent\": \"Mozilla/5.0 (Windows NT 10.0; Win64; x64; rv:99.0) Gecko/20100101 Firefox/99.0\"}\n",
    "\n",
    "page = requests.get(URL, headers=headers)\n",
    "\n",
    "soup1 = BeautifulSoup(page.content, \"html.parser\")\n",
    "\n",
    "soup2 = BeautifulSoup(soup1.prettify(), \"html.parser\")\n",
    "\n",
    "title = soup2.find(\"h1\", {\"class\": \"chakra-heading css-1i4zdsb\"}).get_text()\n",
    "\n",
    "price = soup2.find(\"h2\", {\"class\": \"chakra-heading css-64zram\"}).get_text()\n",
    "\n",
    "print(title)\n",
    "\n",
    "print(price)"
   ]
  },
  {
   "cell_type": "code",
   "execution_count": 26,
   "id": "6ad57479",
   "metadata": {},
   "outputs": [
    {
     "name": "stdout",
     "output_type": "stream",
     "text": [
      "40847.93\n",
      "Bitcoin\n"
     ]
    }
   ],
   "source": [
    "# Isolate the title and price\n",
    "\n",
    "price = price.strip()[1:10].replace(\",\", \"\")\n",
    "title = title.strip()\n",
    "print(price)\n",
    "print(title)"
   ]
  },
  {
   "cell_type": "code",
   "execution_count": 27,
   "id": "e3979d6f",
   "metadata": {},
   "outputs": [
    {
     "name": "stdout",
     "output_type": "stream",
     "text": [
      "2022-04-26\n"
     ]
    }
   ],
   "source": [
    "# Obtain a daily time variable\n",
    "\n",
    "today = datetime.date.today()\n",
    "\n",
    "print(today)"
   ]
  },
  {
   "cell_type": "code",
   "execution_count": 28,
   "id": "4e4dc457",
   "metadata": {},
   "outputs": [],
   "source": [
    "# Combine the data into a singular csv file\n",
    "\n",
    "import csv\n",
    "\n",
    "header = ['Coin', 'Price', 'Date']\n",
    "data = [title, price, today]\n",
    "\n",
    "with open('BitcoinPrice.csv', 'w', newline='', encoding='UTF8') as f:\n",
    "    writer = csv.writer(f)\n",
    "    writer.writerow(header)\n",
    "    writer.writerow(data)"
   ]
  },
  {
   "cell_type": "code",
   "execution_count": 29,
   "id": "d8f0dcc7",
   "metadata": {},
   "outputs": [
    {
     "data": {
      "text/html": [
       "<div>\n",
       "<style scoped>\n",
       "    .dataframe tbody tr th:only-of-type {\n",
       "        vertical-align: middle;\n",
       "    }\n",
       "\n",
       "    .dataframe tbody tr th {\n",
       "        vertical-align: top;\n",
       "    }\n",
       "\n",
       "    .dataframe thead th {\n",
       "        text-align: right;\n",
       "    }\n",
       "</style>\n",
       "<table border=\"1\" class=\"dataframe\">\n",
       "  <thead>\n",
       "    <tr style=\"text-align: right;\">\n",
       "      <th></th>\n",
       "      <th>Coin</th>\n",
       "      <th>Price</th>\n",
       "      <th>Date</th>\n",
       "    </tr>\n",
       "  </thead>\n",
       "  <tbody>\n",
       "    <tr>\n",
       "      <th>0</th>\n",
       "      <td>Bitcoin</td>\n",
       "      <td>40847.93</td>\n",
       "      <td>2022-04-26</td>\n",
       "    </tr>\n",
       "  </tbody>\n",
       "</table>\n",
       "</div>"
      ],
      "text/plain": [
       "      Coin     Price        Date\n",
       "0  Bitcoin  40847.93  2022-04-26"
      ]
     },
     "execution_count": 29,
     "metadata": {},
     "output_type": "execute_result"
    }
   ],
   "source": [
    "import pandas as pd\n",
    "\n",
    "df = pd.read_csv(r\"C:\\Users\\joefa\\BitcoinPrice.csv\")\n",
    "df"
   ]
  },
  {
   "cell_type": "markdown",
   "id": "ac269a99",
   "metadata": {},
   "source": [
    "From here we look to write a function that we can further add to this csv file. We do that below."
   ]
  },
  {
   "cell_type": "code",
   "execution_count": null,
   "id": "de21d2c5",
   "metadata": {},
   "outputs": [],
   "source": [
    "# Now we are appending data to the csv\n",
    "\n",
    "with open('BitcoinPrice.csv', 'a+', newline='', encoding='UTF8') as f:\n",
    "    writer = csv.writer(f)\n",
    "    writer.writerow(data)"
   ]
  },
  {
   "cell_type": "markdown",
   "id": "0dda23b6",
   "metadata": {},
   "source": [
    "## Combining all code above into one function\n",
    "\n",
    "Below, we combine all the code above into one function for potential use in the future."
   ]
  },
  {
   "cell_type": "code",
   "execution_count": null,
   "id": "65f86c21",
   "metadata": {},
   "outputs": [],
   "source": [
    "from bs4 import BeautifulSoup\n",
    "import requests\n",
    "import smtplib\n",
    "import time\n",
    "import datetime\n",
    "\n",
    "def price_update():\n",
    "    URL = 'https://crypto.com/price/bitcoin'\n",
    "\n",
    "    headers = {\"User-Agent\": \"Mozilla/5.0 (Windows NT 10.0; Win64; x64; rv:99.0) Gecko/20100101 Firefox/99.0\"}\n",
    "\n",
    "    page = requests.get(URL, headers=headers)\n",
    "\n",
    "    soup1 = BeautifulSoup(page.content, \"html.parser\")\n",
    "\n",
    "    soup2 = BeautifulSoup(soup1.prettify(), \"html.parser\")\n",
    "\n",
    "    title = soup2.find(\"h1\", {\"class\": \"chakra-heading css-1i4zdsb\"}).get_text()\n",
    "\n",
    "    price = soup2.find(\"h2\", {\"class\": \"chakra-heading css-64zram\"}).get_text()\n",
    "    \n",
    "    price = price.strip()[1:10].replace(\",\", \"\")\n",
    "    title = title.strip()\n",
    "    \n",
    "    today = datetime.date.today()\n",
    "    \n",
    "    import csv\n",
    "\n",
    "    header = ['Coin', 'Price', 'Date']\n",
    "    data = [title, price, today]\n",
    "    \n",
    "    with open('BitcoinPrice.csv', 'a+', newline='', encoding='UTF8') as f:\n",
    "    writer = csv.writer(f)\n",
    "    writer.writerow(data)\n",
    "    "
   ]
  },
  {
   "cell_type": "code",
   "execution_count": null,
   "id": "6bfc6ae2",
   "metadata": {},
   "outputs": [],
   "source": [
    "# Running a while function to update the table the csv at the same time daily.\n",
    "\n",
    "while(True):\n",
    "    price_update()\n",
    "    time.sleep(86400)"
   ]
  },
  {
   "cell_type": "code",
   "execution_count": null,
   "id": "ca8037a1",
   "metadata": {},
   "outputs": [],
   "source": [
    "import pandas as pd\n",
    "\n",
    "df = pd.read_csv(r\"C:\\Users\\joefa\\BitcoinPrice.csv\")\n",
    "df"
   ]
  }
 ],
 "metadata": {
  "kernelspec": {
   "display_name": "Python 3 (ipykernel)",
   "language": "python",
   "name": "python3"
  },
  "language_info": {
   "codemirror_mode": {
    "name": "ipython",
    "version": 3
   },
   "file_extension": ".py",
   "mimetype": "text/x-python",
   "name": "python",
   "nbconvert_exporter": "python",
   "pygments_lexer": "ipython3",
   "version": "3.9.7"
  }
 },
 "nbformat": 4,
 "nbformat_minor": 5
}
