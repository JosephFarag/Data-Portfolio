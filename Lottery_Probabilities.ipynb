{
 "cells": [
  {
   "cell_type": "markdown",
   "id": "878b2f11",
   "metadata": {},
   "source": [
    "## Joseph Farag"
   ]
  },
  {
   "cell_type": "markdown",
   "id": "bea8a533",
   "metadata": {},
   "source": [
    "# How likely are you to win the Lottery?\n",
    "The odds of winning the lottery are well known to be virtually impossible, but how many people know the actual odds and can visualize just how unlikely the chances are of winning the ultimate jackpot. The odds of the winning the major prize vary between the number of numbers available and number of winning numbers required to win, which varies in different lottery games across the world. For this project we're focusing on the lottery rules where 6 numbers are required out of a possible 59 choices, which is common in various lotteries, such as one in the UK, which we'll compare it to."
   ]
  },
  {
   "cell_type": "markdown",
   "id": "d5db981e",
   "metadata": {},
   "source": [
    "### Methods\n",
    "The first task required to analyze the probabilities is to define some functions that will be important to analyze the data. These are defined below:"
   ]
  },
  {
   "cell_type": "code",
   "execution_count": 121,
   "id": "f22cd0b1",
   "metadata": {},
   "outputs": [],
   "source": [
    "def factorial(n):\n",
    "    final_product = 1\n",
    "    for i in range(n, 0, -1): #counting backwards in range\n",
    "        final_product *= i\n",
    "    return final_product"
   ]
  },
  {
   "cell_type": "code",
   "execution_count": 122,
   "id": "81ef87a2",
   "metadata": {},
   "outputs": [],
   "source": [
    "def combination(n,k):\n",
    "    return factorial(n) / (factorial(k)*factorial(n-k))"
   ]
  },
  {
   "cell_type": "markdown",
   "id": "2d6e3d1c",
   "metadata": {},
   "source": [
    "We first define a factorial function, which is essential to defining our combination function below it, which we'll be using in all our functions to come, to calculate the number of possibilities and outcomes for different scenarios within a game of lottery. Firstly, we calculate the probability of winning the lottery with just 1 combination of 6 numbers out of 59:"
   ]
  },
  {
   "cell_type": "code",
   "execution_count": 43,
   "id": "ffc8af12",
   "metadata": {},
   "outputs": [],
   "source": [
    "def lotto_odds(num):\n",
    "    outcomes = combination(59,6)\n",
    "    odds = 1/outcomes\n",
    "    percent = odds*100\n",
    "    print(\"The odds of winning the lotto with numbers {} are {:.7f}%. This is equivalent to a 1 in {:,} chance.\".format(num,percent,int(outcomes)))"
   ]
  },
  {
   "cell_type": "code",
   "execution_count": 126,
   "id": "99601291",
   "metadata": {},
   "outputs": [
    {
     "name": "stdout",
     "output_type": "stream",
     "text": [
      "The odds of winning the lotto with numbers [6, 12, 3, 46, 27, 18] are 0.0000022%. This is equivalent to a 1 in 45,057,474 chance.\n"
     ]
    }
   ],
   "source": [
    "lotto_odds([6,12,3,46,27,18])"
   ]
  },
  {
   "cell_type": "markdown",
   "id": "190268c8",
   "metadata": {},
   "source": [
    "As you can see with our first function, the odds of picking a winning combination of 6 out of 59 numbers with only 1 choice is virtually 0%. From this we can see the practical odds of winning the lottery are very slim. We test below the probabilities of winning with multiple combinations."
   ]
  },
  {
   "cell_type": "code",
   "execution_count": 127,
   "id": "2df90aa6",
   "metadata": {},
   "outputs": [],
   "source": [
    "def multiple_numbers(num):\n",
    "    outcomes = combination(59,6)\n",
    "    odds = num/outcomes\n",
    "    percent = odds*100\n",
    "    odds2 = round(outcomes/num)\n",
    "    print(\"The odds of winning the lotto with {} different tickets are {:.7f}%. This is equivalent to approximately a 1 in {:,} chance.\".format(num,percent,odds2))"
   ]
  },
  {
   "cell_type": "code",
   "execution_count": 151,
   "id": "edb39551",
   "metadata": {
    "scrolled": true
   },
   "outputs": [
    {
     "name": "stdout",
     "output_type": "stream",
     "text": [
      "The odds of winning the lotto with 5 different tickets are 0.0000111%. This is equivalent to approximately a 1 in 9,011,495 chance.\n",
      "The odds of winning the lotto with 10 different tickets are 0.0000222%. This is equivalent to approximately a 1 in 4,505,747 chance.\n",
      "The odds of winning the lotto with 30 different tickets are 0.0000666%. This is equivalent to approximately a 1 in 1,501,916 chance.\n",
      "The odds of winning the lotto with 100 different tickets are 0.0002219%. This is equivalent to approximately a 1 in 450,575 chance.\n",
      "None None None None\n"
     ]
    }
   ],
   "source": [
    "print(multiple_numbers(5), multiple_numbers(10), multiple_numbers(30), multiple_numbers(100))"
   ]
  },
  {
   "cell_type": "code",
   "execution_count": 150,
   "id": "9ff0c805",
   "metadata": {
    "scrolled": true
   },
   "outputs": [
    {
     "data": {
      "image/png": "[encoded data removed]",
      "text/plain": [
       "<Figure size 432x288 with 1 Axes>"
      ]
     },
     "metadata": {},
     "output_type": "display_data"
    }
   ],
   "source": [
    "import matplotlib.pyplot as plt\n",
    "import pandas as pd\n",
    "percentages= []\n",
    "for i in range(1001):\n",
    "    outcomes = combination(59,6)\n",
    "    odds = i/outcomes\n",
    "    percent = odds*100\n",
    "    percentages.append(percent)\n",
    "percent_df = pd.DataFrame(data=[range(1001), percentages])\n",
    "plt.style.use(\"fivethirtyeight\")\n",
    "plt.plot(percent_df.loc[0], percent_df.loc[1])\n",
    "plt.ylim(0,0.005)\n",
    "plt.xlabel(\"No. of Combinations\")\n",
    "plt.ylabel(\"Percent Chance\")\n",
    "plt.title(\"Combinations vs Percentage Chance\")\n",
    "plt.show()"
   ]
  },
  {
   "cell_type": "markdown",
   "id": "796bb693",
   "metadata": {},
   "source": [
    "The functions above prove that the chances of winning the lottery improve with the more combinations and games you play of the lottery. Unfortunately they only improve at a constant rate rather than exponentially as seen on the plot above, and thus even with up to 1000 games, there is much less than a 0.01 chance to win the major prize. This indicates that it doesn't appear to be worth the added costs of spending more for more tickets in the lottery."
   ]
  },
  {
   "cell_type": "markdown",
   "id": "f845b231",
   "metadata": {},
   "source": [
    "Most lotteries have some winning prizes from having at least 2 of the numbers in the combination. The prize isn't anywhere near as high as having every number, but could still make it worthwhile. Below we determine the odds of having at least 2 numbers."
   ]
  },
  {
   "cell_type": "code",
   "execution_count": 152,
   "id": "12144186",
   "metadata": {},
   "outputs": [],
   "source": [
    "def two_numbers():\n",
    "    outcomes = combination(59,6)\n",
    "    \n",
    "    n_ticket_2 = combination(6,2)\n",
    "    n_remaining_2 = combination(53,4)\n",
    "    outcomes_2 = n_ticket_2*n_remaining_2\n",
    "    \n",
    "    n_ticket_3 = combination(6,3)\n",
    "    n_remaining_3 = combination(53,3)\n",
    "    outcomes_3 = n_ticket_3*n_remaining_3\n",
    "    \n",
    "    n_ticket_4 = combination(6,4)\n",
    "    n_remaining_4 = combination(53,2)\n",
    "    outcomes_4 = n_ticket_4*n_remaining_4\n",
    "    \n",
    "    n_ticket_5 = combination(6,5)\n",
    "    n_remaining_5 = combination(53,1)\n",
    "    outcomes_5 = n_ticket_5*n_remaining_5\n",
    "    \n",
    "    outcomes_6 = 1\n",
    "    \n",
    "    odds = (outcomes_2+outcomes_3+outcomes_4+outcomes_5+outcomes_6)/outcomes #Sum of all outcomes 2 and up is at least 2 numbers\n",
    "    percent = odds*100\n",
    "    odds2 = round(outcomes/(outcomes_2+outcomes_3+outcomes_4+outcomes_5+outcomes_6))\n",
    "    print(\"The odds of drawing at least 2 numbers are {:.7f}%. This is equivalent to approximately a 1 in {:,} chance.\".format(percent, odds2))"
   ]
  },
  {
   "cell_type": "code",
   "execution_count": 153,
   "id": "a22ae333",
   "metadata": {
    "scrolled": true
   },
   "outputs": [
    {
     "name": "stdout",
     "output_type": "stream",
     "text": [
      "The odds of drawing at least 2 numbers are 10.8347929%. This is equivalent to approximately a 1 in 9 chance.\n"
     ]
    }
   ],
   "source": [
    "two_numbers()"
   ]
  },
  {
   "cell_type": "markdown",
   "id": "41008cd9",
   "metadata": {},
   "source": [
    "The odds are obviously higher, but with only a 1 in 9 chance of winning, it's still not a great bet considering the lower prizes from getting less numbers."
   ]
  },
  {
   "cell_type": "markdown",
   "id": "3d932d2d",
   "metadata": {},
   "source": [
    "### Checking Historical Data\n",
    "Using a dataset of the UK lottery that shows all the winning combinations in the history of the lottery. We'll analyse the datset to test how frequent combinations have appeared in the past."
   ]
  },
  {
   "cell_type": "code",
   "execution_count": 110,
   "id": "05c17789",
   "metadata": {},
   "outputs": [
    {
     "data": {
      "text/html": [
       "<div>\n",
       "<style scoped>\n",
       "    .dataframe tbody tr th:only-of-type {\n",
       "        vertical-align: middle;\n",
       "    }\n",
       "\n",
       "    .dataframe tbody tr th {\n",
       "        vertical-align: top;\n",
       "    }\n",
       "\n",
       "    .dataframe thead th {\n",
       "        text-align: right;\n",
       "    }\n",
       "</style>\n",
       "<table border=\"1\" class=\"dataframe\">\n",
       "  <thead>\n",
       "    <tr style=\"text-align: right;\">\n",
       "      <th></th>\n",
       "      <th>Date</th>\n",
       "      <th>Ball_1</th>\n",
       "      <th>Ball_2</th>\n",
       "      <th>Ball_3</th>\n",
       "      <th>Ball_4</th>\n",
       "      <th>Ball_5</th>\n",
       "      <th>Ball_6</th>\n",
       "      <th>Ball_Bonus</th>\n",
       "    </tr>\n",
       "  </thead>\n",
       "  <tbody>\n",
       "    <tr>\n",
       "      <th>0</th>\n",
       "      <td>2016-01-02</td>\n",
       "      <td>12</td>\n",
       "      <td>25</td>\n",
       "      <td>29</td>\n",
       "      <td>40</td>\n",
       "      <td>48</td>\n",
       "      <td>56</td>\n",
       "      <td>52</td>\n",
       "    </tr>\n",
       "    <tr>\n",
       "      <th>1</th>\n",
       "      <td>2016-01-06</td>\n",
       "      <td>8</td>\n",
       "      <td>30</td>\n",
       "      <td>40</td>\n",
       "      <td>50</td>\n",
       "      <td>54</td>\n",
       "      <td>57</td>\n",
       "      <td>13</td>\n",
       "    </tr>\n",
       "    <tr>\n",
       "      <th>2</th>\n",
       "      <td>2016-01-09</td>\n",
       "      <td>26</td>\n",
       "      <td>27</td>\n",
       "      <td>46</td>\n",
       "      <td>47</td>\n",
       "      <td>52</td>\n",
       "      <td>58</td>\n",
       "      <td>48</td>\n",
       "    </tr>\n",
       "    <tr>\n",
       "      <th>3</th>\n",
       "      <td>2016-01-13</td>\n",
       "      <td>4</td>\n",
       "      <td>12</td>\n",
       "      <td>38</td>\n",
       "      <td>46</td>\n",
       "      <td>57</td>\n",
       "      <td>59</td>\n",
       "      <td>8</td>\n",
       "    </tr>\n",
       "    <tr>\n",
       "      <th>4</th>\n",
       "      <td>2016-01-16</td>\n",
       "      <td>1</td>\n",
       "      <td>8</td>\n",
       "      <td>12</td>\n",
       "      <td>25</td>\n",
       "      <td>43</td>\n",
       "      <td>52</td>\n",
       "      <td>38</td>\n",
       "    </tr>\n",
       "  </tbody>\n",
       "</table>\n",
       "</div>"
      ],
      "text/plain": [
       "         Date  Ball_1  Ball_2  Ball_3  Ball_4  Ball_5  Ball_6  Ball_Bonus\n",
       "0  2016-01-02      12      25      29      40      48      56          52\n",
       "1  2016-01-06       8      30      40      50      54      57          13\n",
       "2  2016-01-09      26      27      46      47      52      58          48\n",
       "3  2016-01-13       4      12      38      46      57      59           8\n",
       "4  2016-01-16       1       8      12      25      43      52          38"
      ]
     },
     "execution_count": 110,
     "metadata": {},
     "output_type": "execute_result"
    }
   ],
   "source": [
    "import pandas as pd\n",
    "lotto_uk = pd.read_csv(r\"C:\\Users\\joefa\\OneDrive\\Documents\\Projects\\lotto_history.csv\")\n",
    "lotto_uk.head()"
   ]
  },
  {
   "cell_type": "code",
   "execution_count": 117,
   "id": "86f627e2",
   "metadata": {},
   "outputs": [
    {
     "data": {
      "text/plain": [
       "0    {40, 12, 48, 56, 25, 29}\n",
       "1     {8, 40, 50, 54, 57, 30}\n",
       "2    {58, 46, 47, 52, 26, 27}\n",
       "3     {4, 38, 12, 46, 57, 59}\n",
       "4      {1, 8, 43, 12, 52, 25}\n",
       "dtype: object"
      ]
     },
     "execution_count": 117,
     "metadata": {},
     "output_type": "execute_result"
    }
   ],
   "source": [
    "def extract_values(row):\n",
    "    row = row[1:7]\n",
    "    row = set(row.values)\n",
    "    return row\n",
    "\n",
    "success_numbers = lotto_uk.apply(extract_values, axis=1)\n",
    "success_numbers.head()"
   ]
  },
  {
   "cell_type": "code",
   "execution_count": 118,
   "id": "c9b2d7f6",
   "metadata": {},
   "outputs": [],
   "source": [
    "def check_occurrence(user_numbers, historic_numbers):\n",
    "    user_numbers = set(user_numbers)\n",
    "    check_occurrence = user_numbers == historic_numbers\n",
    "    n_occurrence = check_occurrence.sum()\n",
    "    \n",
    "    if n_occurrence == 0:\n",
    "        print(\"The combination {} has never occurred.\".format(user_numbers))\n",
    "        \n",
    "    else:\n",
    "        print(\"The combination {} occurred {} times.\".format(user_numbers, n_occurrence))"
   ]
  },
  {
   "cell_type": "code",
   "execution_count": 120,
   "id": "b00f5a4f",
   "metadata": {},
   "outputs": [
    {
     "name": "stdout",
     "output_type": "stream",
     "text": [
      "The combination {40, 12, 48, 56, 25, 29} occurred 1 times.\n"
     ]
    }
   ],
   "source": [
    "check_occurrence([40,12,48,56,25,29], success_numbers)"
   ]
  },
  {
   "cell_type": "code",
   "execution_count": 154,
   "id": "a725e495",
   "metadata": {},
   "outputs": [
    {
     "name": "stdout",
     "output_type": "stream",
     "text": [
      "The combination {5, 8, 11, 44, 16, 19} has never occurred.\n"
     ]
    }
   ],
   "source": [
    "check_occurrence([44,11,8,16,5,19], success_numbers)"
   ]
  },
  {
   "cell_type": "code",
   "execution_count": 155,
   "id": "4727f3d8",
   "metadata": {},
   "outputs": [
    {
     "name": "stdout",
     "output_type": "stream",
     "text": [
      "The combination {1, 4, 36, 39, 10, 45} has never occurred.\n"
     ]
    }
   ],
   "source": [
    "check_occurrence([1,10,4,36,45,39], success_numbers)"
   ]
  },
  {
   "cell_type": "code",
   "execution_count": 156,
   "id": "70e7688e",
   "metadata": {},
   "outputs": [
    {
     "name": "stdout",
     "output_type": "stream",
     "text": [
      "The combination {1, 8, 43, 12, 52, 25} occurred 1 times.\n"
     ]
    }
   ],
   "source": [
    "check_occurrence([1, 8, 43, 12, 52, 25], success_numbers)"
   ]
  },
  {
   "cell_type": "markdown",
   "id": "e2d74cea",
   "metadata": {},
   "source": [
    "We can see above, just how rare it is for any 1 of these combinations appear in the historical dataset, confirming the low odds of winning with any combination that we calculated above."
   ]
  },
  {
   "cell_type": "markdown",
   "id": "a4187781",
   "metadata": {},
   "source": [
    "### Conclusions\n",
    "In conclusion, it is clear that the odds of winning the lottery are very minimal. These functions and subsequent results can be useful in various situations, such as advertisements and apps that are aimed at helping with gambling addictions."
   ]
  }
 ],
 "metadata": {
  "kernelspec": {
   "display_name": "Python 3 (ipykernel)",
   "language": "python",
   "name": "python3"
  },
  "language_info": {
   "codemirror_mode": {
    "name": "ipython",
    "version": 3
   },
   "file_extension": ".py",
   "mimetype": "text/x-python",
   "name": "python",
   "nbconvert_exporter": "python",
   "pygments_lexer": "ipython3",
   "version": "3.9.7"
  }
 },
 "nbformat": 4,
 "nbformat_minor": 5
}
