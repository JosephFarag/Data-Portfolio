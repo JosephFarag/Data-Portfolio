{
 "cells": [
  {
   "cell_type": "markdown",
   "id": "8d08e3a0",
   "metadata": {},
   "source": [
    "## Joseph Farag"
   ]
  },
  {
   "cell_type": "markdown",
   "id": "b64ddc67",
   "metadata": {},
   "source": [
    "# Is free throw shooting a good way to evaluate a basketball player's three point shooting ability?\n",
    "\n",
    "Basketball is a sport that is evaluated with many statistics. One of the key aspects that can be observed is a player's individual shooting statistics. When evaluating young prospects with potential or players further along in their career, a key aspect of a player's potential in one area can be linked to another key statistic that you may have a lot of data on. Shooting is one of the main components of the sport of basketball, and as the analytics of the sport have evolved, the three point shot has become arguably the most important shot in the game, due to its high value. Sometimes when evaluating a player's three point shooting ability, it can be hard to evaluate an opponents ability to shoot the three point shot, due to either a small sample size or just a potential cold streak. One potential way to assess a players ability to shoot three pointers is to determine whether their free throw percentage has a significant impact on their three point percentage. The free throw is the most consistent shot a player is going to take, and so potentially is a greater determinant of a player's overall shooting ability."
   ]
  },
  {
   "cell_type": "markdown",
   "id": "c6a71fe6",
   "metadata": {},
   "source": [
    "### Reading in the Data\n",
    "In this project, we are going to assess whether a player's free throw percentage is a good indicator of their three point percentage. To do this, we are going to access the season 2020-21 statistics of all individual players in the nba. We read in the data below:"
   ]
  },
  {
   "cell_type": "code",
   "execution_count": 106,
   "id": "b8149e3e",
   "metadata": {
    "scrolled": true
   },
   "outputs": [
    {
     "data": {
      "text/html": [
       "<div>\n",
       "<style scoped>\n",
       "    .dataframe tbody tr th:only-of-type {\n",
       "        vertical-align: middle;\n",
       "    }\n",
       "\n",
       "    .dataframe tbody tr th {\n",
       "        vertical-align: top;\n",
       "    }\n",
       "\n",
       "    .dataframe thead th {\n",
       "        text-align: right;\n",
       "    }\n",
       "</style>\n",
       "<table border=\"1\" class=\"dataframe\">\n",
       "  <thead>\n",
       "    <tr style=\"text-align: right;\">\n",
       "      <th></th>\n",
       "      <th>Rk</th>\n",
       "      <th>Player</th>\n",
       "      <th>Pos</th>\n",
       "      <th>Age</th>\n",
       "      <th>Tm</th>\n",
       "      <th>G</th>\n",
       "      <th>GS</th>\n",
       "      <th>MP</th>\n",
       "      <th>FG</th>\n",
       "      <th>FGA</th>\n",
       "      <th>...</th>\n",
       "      <th>FT%</th>\n",
       "      <th>ORB</th>\n",
       "      <th>DRB</th>\n",
       "      <th>TRB</th>\n",
       "      <th>AST</th>\n",
       "      <th>STL</th>\n",
       "      <th>BLK</th>\n",
       "      <th>TOV</th>\n",
       "      <th>PF</th>\n",
       "      <th>PTS</th>\n",
       "    </tr>\n",
       "  </thead>\n",
       "  <tbody>\n",
       "    <tr>\n",
       "      <th>0</th>\n",
       "      <td>1</td>\n",
       "      <td>Precious Achiuwa</td>\n",
       "      <td>PF</td>\n",
       "      <td>21</td>\n",
       "      <td>MIA</td>\n",
       "      <td>61</td>\n",
       "      <td>4</td>\n",
       "      <td>12.1</td>\n",
       "      <td>2.0</td>\n",
       "      <td>3.7</td>\n",
       "      <td>...</td>\n",
       "      <td>0.509</td>\n",
       "      <td>1.2</td>\n",
       "      <td>2.2</td>\n",
       "      <td>3.4</td>\n",
       "      <td>0.5</td>\n",
       "      <td>0.3</td>\n",
       "      <td>0.5</td>\n",
       "      <td>0.7</td>\n",
       "      <td>1.5</td>\n",
       "      <td>5.0</td>\n",
       "    </tr>\n",
       "    <tr>\n",
       "      <th>1</th>\n",
       "      <td>2</td>\n",
       "      <td>Jaylen Adams</td>\n",
       "      <td>PG</td>\n",
       "      <td>24</td>\n",
       "      <td>MIL</td>\n",
       "      <td>7</td>\n",
       "      <td>0</td>\n",
       "      <td>2.6</td>\n",
       "      <td>0.1</td>\n",
       "      <td>1.1</td>\n",
       "      <td>...</td>\n",
       "      <td>NaN</td>\n",
       "      <td>0.0</td>\n",
       "      <td>0.4</td>\n",
       "      <td>0.4</td>\n",
       "      <td>0.3</td>\n",
       "      <td>0.0</td>\n",
       "      <td>0.0</td>\n",
       "      <td>0.0</td>\n",
       "      <td>0.1</td>\n",
       "      <td>0.3</td>\n",
       "    </tr>\n",
       "    <tr>\n",
       "      <th>2</th>\n",
       "      <td>3</td>\n",
       "      <td>Steven Adams</td>\n",
       "      <td>C</td>\n",
       "      <td>27</td>\n",
       "      <td>NOP</td>\n",
       "      <td>58</td>\n",
       "      <td>58</td>\n",
       "      <td>27.7</td>\n",
       "      <td>3.3</td>\n",
       "      <td>5.3</td>\n",
       "      <td>...</td>\n",
       "      <td>0.444</td>\n",
       "      <td>3.7</td>\n",
       "      <td>5.2</td>\n",
       "      <td>8.9</td>\n",
       "      <td>1.9</td>\n",
       "      <td>0.9</td>\n",
       "      <td>0.7</td>\n",
       "      <td>1.3</td>\n",
       "      <td>1.9</td>\n",
       "      <td>7.6</td>\n",
       "    </tr>\n",
       "    <tr>\n",
       "      <th>3</th>\n",
       "      <td>4</td>\n",
       "      <td>Bam Adebayo</td>\n",
       "      <td>C</td>\n",
       "      <td>23</td>\n",
       "      <td>MIA</td>\n",
       "      <td>64</td>\n",
       "      <td>64</td>\n",
       "      <td>33.5</td>\n",
       "      <td>7.1</td>\n",
       "      <td>12.5</td>\n",
       "      <td>...</td>\n",
       "      <td>0.799</td>\n",
       "      <td>2.2</td>\n",
       "      <td>6.7</td>\n",
       "      <td>9.0</td>\n",
       "      <td>5.4</td>\n",
       "      <td>1.2</td>\n",
       "      <td>1.0</td>\n",
       "      <td>2.6</td>\n",
       "      <td>2.3</td>\n",
       "      <td>18.7</td>\n",
       "    </tr>\n",
       "    <tr>\n",
       "      <th>4</th>\n",
       "      <td>5</td>\n",
       "      <td>LaMarcus Aldridge</td>\n",
       "      <td>C</td>\n",
       "      <td>35</td>\n",
       "      <td>TOT</td>\n",
       "      <td>26</td>\n",
       "      <td>23</td>\n",
       "      <td>25.9</td>\n",
       "      <td>5.4</td>\n",
       "      <td>11.4</td>\n",
       "      <td>...</td>\n",
       "      <td>0.872</td>\n",
       "      <td>0.7</td>\n",
       "      <td>3.8</td>\n",
       "      <td>4.5</td>\n",
       "      <td>1.9</td>\n",
       "      <td>0.4</td>\n",
       "      <td>1.1</td>\n",
       "      <td>1.0</td>\n",
       "      <td>1.8</td>\n",
       "      <td>13.5</td>\n",
       "    </tr>\n",
       "  </tbody>\n",
       "</table>\n",
       "<p>5 rows × 30 columns</p>\n",
       "</div>"
      ],
      "text/plain": [
       "   Rk             Player Pos  Age   Tm   G  GS    MP   FG   FGA  ...    FT%  \\\n",
       "0   1   Precious Achiuwa  PF   21  MIA  61   4  12.1  2.0   3.7  ...  0.509   \n",
       "1   2       Jaylen Adams  PG   24  MIL   7   0   2.6  0.1   1.1  ...    NaN   \n",
       "2   3       Steven Adams   C   27  NOP  58  58  27.7  3.3   5.3  ...  0.444   \n",
       "3   4        Bam Adebayo   C   23  MIA  64  64  33.5  7.1  12.5  ...  0.799   \n",
       "4   5  LaMarcus Aldridge   C   35  TOT  26  23  25.9  5.4  11.4  ...  0.872   \n",
       "\n",
       "   ORB  DRB  TRB  AST  STL  BLK  TOV   PF   PTS  \n",
       "0  1.2  2.2  3.4  0.5  0.3  0.5  0.7  1.5   5.0  \n",
       "1  0.0  0.4  0.4  0.3  0.0  0.0  0.0  0.1   0.3  \n",
       "2  3.7  5.2  8.9  1.9  0.9  0.7  1.3  1.9   7.6  \n",
       "3  2.2  6.7  9.0  5.4  1.2  1.0  2.6  2.3  18.7  \n",
       "4  0.7  3.8  4.5  1.9  0.4  1.1  1.0  1.8  13.5  \n",
       "\n",
       "[5 rows x 30 columns]"
      ]
     },
     "execution_count": 106,
     "metadata": {},
     "output_type": "execute_result"
    }
   ],
   "source": [
    "import pandas as pd\n",
    "import numpy as np\n",
    "import matplotlib.pyplot as plt\n",
    "nba = pd.read_csv(r\"C:\\Users\\joefa\\OneDrive\\Documents\\Projects\\2020_21_NBA_Player_Stats_Per_Game.csv\")\n",
    "nba.head()"
   ]
  },
  {
   "cell_type": "markdown",
   "id": "12949d2d",
   "metadata": {},
   "source": [
    "### Cleaning the Data\n",
    "From the table above, it's important we clean the dataset by setting minimum requirements for the players to surpass in certain statistics to have a valid dataset. Firstly, we'll make sure our dataset only has players that have played over half of the season(36 games)."
   ]
  },
  {
   "cell_type": "code",
   "execution_count": 108,
   "id": "21e97d86",
   "metadata": {
    "scrolled": true
   },
   "outputs": [
    {
     "data": {
      "text/plain": [
       "(369, 30)"
      ]
     },
     "execution_count": 108,
     "metadata": {},
     "output_type": "execute_result"
    }
   ],
   "source": [
    "nba2 = nba[nba['G'] >= 36] #Restricting the dataset\n",
    "nba2.shape"
   ]
  },
  {
   "cell_type": "markdown",
   "id": "3c8e87d4",
   "metadata": {},
   "source": [
    "Furthermore, we'll also set important requirements that each player must've shot atleast 1 free throw and three point attempt per game."
   ]
  },
  {
   "cell_type": "code",
   "execution_count": 109,
   "id": "3737127e",
   "metadata": {},
   "outputs": [
    {
     "data": {
      "text/plain": [
       "(220, 30)"
      ]
     },
     "execution_count": 109,
     "metadata": {},
     "output_type": "execute_result"
    }
   ],
   "source": [
    "nba3 = nba2[nba2['FTA'] >= 1]\n",
    "nba4 = nba3[nba3['3PA'] >= 1]\n",
    "nba4.shape"
   ]
  },
  {
   "cell_type": "markdown",
   "id": "f9e8fe70",
   "metadata": {},
   "source": [
    "Our dataset currently has too many columns that are unimportant to our end goal, and so we create a new dataframe using only the columns that are important to our study."
   ]
  },
  {
   "cell_type": "code",
   "execution_count": 118,
   "id": "c1361989",
   "metadata": {},
   "outputs": [
    {
     "data": {
      "text/html": [
       "<div>\n",
       "<style scoped>\n",
       "    .dataframe tbody tr th:only-of-type {\n",
       "        vertical-align: middle;\n",
       "    }\n",
       "\n",
       "    .dataframe tbody tr th {\n",
       "        vertical-align: top;\n",
       "    }\n",
       "\n",
       "    .dataframe thead th {\n",
       "        text-align: right;\n",
       "    }\n",
       "</style>\n",
       "<table border=\"1\" class=\"dataframe\">\n",
       "  <thead>\n",
       "    <tr style=\"text-align: right;\">\n",
       "      <th></th>\n",
       "      <th>Player</th>\n",
       "      <th>Pos</th>\n",
       "      <th>G</th>\n",
       "      <th>FT</th>\n",
       "      <th>FTA</th>\n",
       "      <th>FT%</th>\n",
       "      <th>3P</th>\n",
       "      <th>3PA</th>\n",
       "      <th>3P%</th>\n",
       "    </tr>\n",
       "  </thead>\n",
       "  <tbody>\n",
       "    <tr>\n",
       "      <th>8</th>\n",
       "      <td>Nickeil Alexander-Walker</td>\n",
       "      <td>SG</td>\n",
       "      <td>46</td>\n",
       "      <td>1.0</td>\n",
       "      <td>1.4</td>\n",
       "      <td>0.727</td>\n",
       "      <td>1.7</td>\n",
       "      <td>4.8</td>\n",
       "      <td>0.347</td>\n",
       "    </tr>\n",
       "    <tr>\n",
       "      <th>9</th>\n",
       "      <td>Grayson Allen</td>\n",
       "      <td>SG</td>\n",
       "      <td>50</td>\n",
       "      <td>1.6</td>\n",
       "      <td>1.8</td>\n",
       "      <td>0.868</td>\n",
       "      <td>2.1</td>\n",
       "      <td>5.5</td>\n",
       "      <td>0.391</td>\n",
       "    </tr>\n",
       "    <tr>\n",
       "      <th>16</th>\n",
       "      <td>Kyle Anderson</td>\n",
       "      <td>PF</td>\n",
       "      <td>69</td>\n",
       "      <td>2.1</td>\n",
       "      <td>2.7</td>\n",
       "      <td>0.783</td>\n",
       "      <td>1.4</td>\n",
       "      <td>3.8</td>\n",
       "      <td>0.360</td>\n",
       "    </tr>\n",
       "    <tr>\n",
       "      <th>17</th>\n",
       "      <td>Giannis Antetokounmpo</td>\n",
       "      <td>PF</td>\n",
       "      <td>61</td>\n",
       "      <td>6.5</td>\n",
       "      <td>9.5</td>\n",
       "      <td>0.685</td>\n",
       "      <td>1.1</td>\n",
       "      <td>3.6</td>\n",
       "      <td>0.303</td>\n",
       "    </tr>\n",
       "    <tr>\n",
       "      <th>20</th>\n",
       "      <td>Carmelo Anthony</td>\n",
       "      <td>PF</td>\n",
       "      <td>69</td>\n",
       "      <td>2.0</td>\n",
       "      <td>2.2</td>\n",
       "      <td>0.890</td>\n",
       "      <td>1.9</td>\n",
       "      <td>4.7</td>\n",
       "      <td>0.409</td>\n",
       "    </tr>\n",
       "  </tbody>\n",
       "</table>\n",
       "</div>"
      ],
      "text/plain": [
       "                      Player Pos   G   FT  FTA    FT%   3P  3PA    3P%\n",
       "8   Nickeil Alexander-Walker  SG  46  1.0  1.4  0.727  1.7  4.8  0.347\n",
       "9              Grayson Allen  SG  50  1.6  1.8  0.868  2.1  5.5  0.391\n",
       "16             Kyle Anderson  PF  69  2.1  2.7  0.783  1.4  3.8  0.360\n",
       "17     Giannis Antetokounmpo  PF  61  6.5  9.5  0.685  1.1  3.6  0.303\n",
       "20           Carmelo Anthony  PF  69  2.0  2.2  0.890  1.9  4.7  0.409"
      ]
     },
     "execution_count": 118,
     "metadata": {},
     "output_type": "execute_result"
    }
   ],
   "source": [
    "nba_df = pd.DataFrame(data=nba4, columns = ['Player', 'Pos', 'G', 'FT', 'FTA','FT%', '3P', '3PA', '3P%']) #establish new dataframe\n",
    "nba_df.head()"
   ]
  },
  {
   "cell_type": "markdown",
   "id": "01802fe8",
   "metadata": {},
   "source": [
    "### Investigating the Data\n",
    "To initially visualize the relationship between the two percentage variables, we'll plot a linear regression plot to estimate if their appears to be any relationship between the two."
   ]
  },
  {
   "cell_type": "code",
   "execution_count": 145,
   "id": "2d1a71ba",
   "metadata": {
    "scrolled": true
   },
   "outputs": [
    {
     "data": {
      "image/png": "[encoded data removed]",
      "text/plain": [
       "<Figure size 432x288 with 1 Axes>"
      ]
     },
     "metadata": {},
     "output_type": "display_data"
    }
   ],
   "source": [
    "plt.style.use(\"fivethirtyeight\") #create specific style for plots\n",
    "sns.regplot(x=nba_df['FT%'], y=nba_df['3P%'])\n",
    "plt.ylabel(\"3P%\")\n",
    "plt.xlabel(\"FT%\")\n",
    "plt.title('Linear Regression Plot of Free Throw Percentage vs Three Point Percentage')\n",
    "plt.show()"
   ]
  },
  {
   "cell_type": "markdown",
   "id": "ed3c88c6",
   "metadata": {},
   "source": [
    "Initially, their does appear to be a relationship between the two variables, albeit not largely significant. We confirm this with the correlation below."
   ]
  },
  {
   "cell_type": "code",
   "execution_count": 121,
   "id": "0965c49d",
   "metadata": {},
   "outputs": [
    {
     "data": {
      "text/plain": [
       "0.3417581833069215"
      ]
     },
     "execution_count": 121,
     "metadata": {},
     "output_type": "execute_result"
    }
   ],
   "source": [
    "nba_df['3P%'].corr(nba_df['FT%']) #correlation statistic"
   ]
  },
  {
   "cell_type": "markdown",
   "id": "6fb29a1d",
   "metadata": {},
   "source": [
    "One way to further analyze the data is to split the data into above and below average shooter categories in both free throw percentages, and three point percentages. We'll see if there's a significant difference between the binary categories to signify a relationship, by determining how many above average free throw shooters are also above average three point shooters."
   ]
  },
  {
   "cell_type": "code",
   "execution_count": 122,
   "id": "12a83b76",
   "metadata": {},
   "outputs": [],
   "source": [
    "three_mean = nba_df['3P%'].mean()\n",
    "FT_mean = nba_df['FT%'].mean()"
   ]
  },
  {
   "cell_type": "code",
   "execution_count": 123,
   "id": "92120671",
   "metadata": {},
   "outputs": [
    {
     "data": {
      "text/html": [
       "<div>\n",
       "<style scoped>\n",
       "    .dataframe tbody tr th:only-of-type {\n",
       "        vertical-align: middle;\n",
       "    }\n",
       "\n",
       "    .dataframe tbody tr th {\n",
       "        vertical-align: top;\n",
       "    }\n",
       "\n",
       "    .dataframe thead th {\n",
       "        text-align: right;\n",
       "    }\n",
       "</style>\n",
       "<table border=\"1\" class=\"dataframe\">\n",
       "  <thead>\n",
       "    <tr style=\"text-align: right;\">\n",
       "      <th></th>\n",
       "      <th>Player</th>\n",
       "      <th>Pos</th>\n",
       "      <th>G</th>\n",
       "      <th>FT</th>\n",
       "      <th>FTA</th>\n",
       "      <th>FT%</th>\n",
       "      <th>3P</th>\n",
       "      <th>3PA</th>\n",
       "      <th>3P%</th>\n",
       "      <th>ft_ranking</th>\n",
       "      <th>3p_ranking</th>\n",
       "    </tr>\n",
       "  </thead>\n",
       "  <tbody>\n",
       "    <tr>\n",
       "      <th>8</th>\n",
       "      <td>Nickeil Alexander-Walker</td>\n",
       "      <td>SG</td>\n",
       "      <td>46</td>\n",
       "      <td>1.0</td>\n",
       "      <td>1.4</td>\n",
       "      <td>0.727</td>\n",
       "      <td>1.7</td>\n",
       "      <td>4.8</td>\n",
       "      <td>0.347</td>\n",
       "      <td>Below Average</td>\n",
       "      <td>Below Average</td>\n",
       "    </tr>\n",
       "    <tr>\n",
       "      <th>9</th>\n",
       "      <td>Grayson Allen</td>\n",
       "      <td>SG</td>\n",
       "      <td>50</td>\n",
       "      <td>1.6</td>\n",
       "      <td>1.8</td>\n",
       "      <td>0.868</td>\n",
       "      <td>2.1</td>\n",
       "      <td>5.5</td>\n",
       "      <td>0.391</td>\n",
       "      <td>Above Average</td>\n",
       "      <td>Above Average</td>\n",
       "    </tr>\n",
       "    <tr>\n",
       "      <th>16</th>\n",
       "      <td>Kyle Anderson</td>\n",
       "      <td>PF</td>\n",
       "      <td>69</td>\n",
       "      <td>2.1</td>\n",
       "      <td>2.7</td>\n",
       "      <td>0.783</td>\n",
       "      <td>1.4</td>\n",
       "      <td>3.8</td>\n",
       "      <td>0.360</td>\n",
       "      <td>Below Average</td>\n",
       "      <td>Below Average</td>\n",
       "    </tr>\n",
       "    <tr>\n",
       "      <th>17</th>\n",
       "      <td>Giannis Antetokounmpo</td>\n",
       "      <td>PF</td>\n",
       "      <td>61</td>\n",
       "      <td>6.5</td>\n",
       "      <td>9.5</td>\n",
       "      <td>0.685</td>\n",
       "      <td>1.1</td>\n",
       "      <td>3.6</td>\n",
       "      <td>0.303</td>\n",
       "      <td>Below Average</td>\n",
       "      <td>Below Average</td>\n",
       "    </tr>\n",
       "    <tr>\n",
       "      <th>20</th>\n",
       "      <td>Carmelo Anthony</td>\n",
       "      <td>PF</td>\n",
       "      <td>69</td>\n",
       "      <td>2.0</td>\n",
       "      <td>2.2</td>\n",
       "      <td>0.890</td>\n",
       "      <td>1.9</td>\n",
       "      <td>4.7</td>\n",
       "      <td>0.409</td>\n",
       "      <td>Above Average</td>\n",
       "      <td>Above Average</td>\n",
       "    </tr>\n",
       "  </tbody>\n",
       "</table>\n",
       "</div>"
      ],
      "text/plain": [
       "                      Player Pos   G   FT  FTA    FT%   3P  3PA    3P%  \\\n",
       "8   Nickeil Alexander-Walker  SG  46  1.0  1.4  0.727  1.7  4.8  0.347   \n",
       "9              Grayson Allen  SG  50  1.6  1.8  0.868  2.1  5.5  0.391   \n",
       "16             Kyle Anderson  PF  69  2.1  2.7  0.783  1.4  3.8  0.360   \n",
       "17     Giannis Antetokounmpo  PF  61  6.5  9.5  0.685  1.1  3.6  0.303   \n",
       "20           Carmelo Anthony  PF  69  2.0  2.2  0.890  1.9  4.7  0.409   \n",
       "\n",
       "       ft_ranking     3p_ranking  \n",
       "8   Below Average  Below Average  \n",
       "9   Above Average  Above Average  \n",
       "16  Below Average  Below Average  \n",
       "17  Below Average  Below Average  \n",
       "20  Above Average  Above Average  "
      ]
     },
     "execution_count": 123,
     "metadata": {},
     "output_type": "execute_result"
    }
   ],
   "source": [
    "nba_df['ft_ranking'] = nba_df['FT%'].apply(lambda x: 'Above Average' if x >= FT_mean else 'Below Average')\n",
    "nba_df['3p_ranking'] = nba_df['3P%'].apply(lambda x: 'Above Average' if x >= three_mean else 'Below Average')\n",
    "nba_df.head() #establishing new variables"
   ]
  },
  {
   "cell_type": "code",
   "execution_count": 128,
   "id": "71036843",
   "metadata": {},
   "outputs": [
    {
     "name": "stdout",
     "output_type": "stream",
     "text": [
      "The percentage of above average free throw shooters also being above average three point shooters is 68.8%\n"
     ]
    }
   ],
   "source": [
    "above_average_ft = nba_df[nba_df['ft_ranking'] == 'Above Average']\n",
    "three_total = above_average_ft[above_average_ft['3p_ranking'] == 'Above Average'].shape[0]\n",
    "good_shooters = three_total / above_average_ft.shape[0]\n",
    "good_shooter_pct = good_shooters*100\n",
    "print(\"The percentage of above average free throw shooters also being above average three point shooters is {}%\".format(good_shooter_pct))"
   ]
  },
  {
   "cell_type": "markdown",
   "id": "3f16eeeb",
   "metadata": {},
   "source": [
    "The majority of above average free throw shooters are also above average three point shooters. We'll also check to see how many of below average free throw shooters are above average three point shooters."
   ]
  },
  {
   "cell_type": "code",
   "execution_count": 135,
   "id": "117d7058",
   "metadata": {},
   "outputs": [
    {
     "name": "stdout",
     "output_type": "stream",
     "text": [
      "The percentage of below average free throw shooters being above average three point shooters is approximately 33.68%\n"
     ]
    }
   ],
   "source": [
    "below_average_ft = nba_df[nba_df['ft_ranking'] == 'Below Average']\n",
    "three_total2 = below_average_ft[below_average_ft['3p_ranking'] == 'Above Average'].shape[0]\n",
    "bad_shooters = three_total2 / below_average_ft.shape[0]\n",
    "bad_shooter_pct = round(bad_shooters*100,2)\n",
    "print(\"The percentage of below average free throw shooters being above average three point shooters is approximately {}%\".format(bad_shooter_pct))"
   ]
  },
  {
   "cell_type": "markdown",
   "id": "eb5a1309",
   "metadata": {},
   "source": [
    "### Plotting the Data"
   ]
  },
  {
   "cell_type": "code",
   "execution_count": 142,
   "id": "ffc93412",
   "metadata": {},
   "outputs": [
    {
     "data": {
      "image/png": "[encoded data removed]",
      "text/plain": [
       "<Figure size 432x288 with 1 Axes>"
      ]
     },
     "metadata": {},
     "output_type": "display_data"
    }
   ],
   "source": [
    "import seaborn as sns\n",
    "plt.style.use(\"fivethirtyeight\")\n",
    "sns.boxplot(x=nba_df['ft_ranking'], y = nba_df['3P%'])\n",
    "plt.show()"
   ]
  },
  {
   "cell_type": "code",
   "execution_count": 144,
   "id": "45b7e224",
   "metadata": {},
   "outputs": [
    {
     "data": {
      "image/png": "[encoded data removed]",
      "text/plain": [
       "<Figure size 432x288 with 1 Axes>"
      ]
     },
     "metadata": {},
     "output_type": "display_data"
    }
   ],
   "source": [
    "plt.style.use(\"fivethirtyeight\")\n",
    "sns.boxplot(x=nba_df['3p_ranking'], y=nba_df['FT%'])\n",
    "plt.show()"
   ]
  },
  {
   "cell_type": "markdown",
   "id": "4a8b37ea",
   "metadata": {},
   "source": [
    "Despite a few clear outliers above, the boxplots indicate that there is a relationship between an individual player's free throw percentage and their three point relationships. We also made a box plot of the opposite side of the relationship, which indicates there's a relationship between the two both ways."
   ]
  },
  {
   "cell_type": "markdown",
   "id": "a9c7f64b",
   "metadata": {},
   "source": [
    "### Conclusions\n",
    "From the above investigations, there appears to be a relationship between the two variables. We can see that a player's free throw percentage is a decent indicator of a player's three point shooting ability, albeit not perfect. A potential way to further investigate would be looking at more years and dataset's as well as investigating potentially another league to see how universally strong the relationship is. We conclude that there appears to be a relationship, and is potentially worth investigating further."
   ]
  }
 ],
 "metadata": {
  "kernelspec": {
   "display_name": "Python 3 (ipykernel)",
   "language": "python",
   "name": "python3"
  },
  "language_info": {
   "codemirror_mode": {
    "name": "ipython",
    "version": 3
   },
   "file_extension": ".py",
   "mimetype": "text/x-python",
   "name": "python",
   "nbconvert_exporter": "python",
   "pygments_lexer": "ipython3",
   "version": "3.9.7"
  }
 },
 "nbformat": 4,
 "nbformat_minor": 5
}
